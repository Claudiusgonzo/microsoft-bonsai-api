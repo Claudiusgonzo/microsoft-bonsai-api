{
 "cells": [
  {
   "cell_type": "markdown",
   "metadata": {},
   "source": [
    "# Tutorial: Create an adder simulator using python Bonsai SDK "
   ]
  },
  {
   "cell_type": "markdown",
   "metadata": {},
   "source": [
    "Adder is a very simple dummy simulator which just adds 2 numbers and validates if Bonsai platform returned the sum of those 2 numbers or not.\n"
   ]
  },
  {
   "cell_type": "markdown",
   "metadata": {},
   "source": [
    "### Step1: Import required classes and modules."
   ]
  },
  {
   "cell_type": "code",
   "execution_count": 1,
   "metadata": {},
   "outputs": [],
   "source": [
    "import os\n",
    "import sys\n",
    "import time\n",
    "from datetime import datetime\n",
    "import requests\n",
    "import json\n",
    "from bonsai.simulatorapi.simulator_api import *\n",
    "from bonsai.simulatorapi.models import *\n",
    "from bonsai.simulatorapi import *\n",
    "from bonsaiclient import BonsaiClient, CreateSimContext"
   ]
  },
  {
   "cell_type": "markdown",
   "metadata": {},
   "source": [
    "### Step2: specify the required parameters or read from env vars.\n",
    "1. timeout: Bonsai protocol needs the simulator to keep pinging constantly, while it knows that simulating the events can take time and depends on simulator type. So this param will give bonsai an idea about latencies in simulator and when to delete a simulator session automatically if sim didn't respond within this time.\n",
    "2. api-host: Root URL for bonsai server. It's https://api.bons.ai\n",
    "3. workspace: Name of your Bonsai workspace.\n",
    "4. access-key: AccesKey to authenticate calls from this simulator. you can generate access-keys using Bonsai platform.\n",
    "5. sim-context: This is the most important part of registration information for a new session. \n",
    "   It has the purpose, which contains, brainName, brainVersion and concept and this session      will only be used to train those active brainversions, hacing the same conceptname.\n"
   ]
  },
  {
   "cell_type": "code",
   "execution_count": 2,
   "metadata": {},
   "outputs": [],
   "source": [
    "rest_api = None\n",
    "session_id = ''\n",
    "\n",
    "# parse the arguments and environment variables\n",
    "# you can sue this helper function to create sim-context string as well. \n",
    "# simcontext = CreateSimContext(\"Train\", workspace, brainName, brainVersion, conceptName)\n",
    "\n",
    "params = {\n",
    "    'timeout': 0.0,\n",
    "    'api-host': os.getenv('SIM_API_HOST', 'https://api.bons.ai'),\n",
    "    'workspace': os.getenv('SIM_WORKSPACE', ''),\n",
    "    'access-key': os.getenv('SIM_ACCESS_KEY', 'bonsai nothing'),\n",
    "    'sim-context': os.getenv('SIM_CONTEXT', ''),\n",
    "}\n",
    "\n",
    "if not params['workspace']:\n",
    "    raise RuntimeError('Must define a workspace in SIM_WORKSPACE or --workspace')\n",
    "\n",
    "#print(f'using params {params}')\n",
    "\n",
    "# build the api handler\n",
    "rest_api = BonsaiClient(\n",
    "    workspace=params['workspace'],\n",
    "    host=params['api-host'],\n",
    "    access_key=params['access-key']\n",
    "    )"
   ]
  },
  {
   "cell_type": "markdown",
   "metadata": {},
   "source": [
    "### Step3: Now Let's create a new simulator session with bonsai platform."
   ]
  },
  {
   "cell_type": "code",
   "execution_count": 3,
   "metadata": {},
   "outputs": [
    {
     "name": "stdout",
     "output_type": "stream",
     "text": [
      "Creating session with {\n",
      "   \"capabilities\": {},\n",
      "   \"description\": {},\n",
      "   \"name\": \"the_simulator\",\n",
      "   \"simulatorContext\": \"{\\\"deploymentMode\\\": \\\"Testing\\\", \\\"simulatorClientId\\\": \\\"123456\\\", \\\"purpose\\\": { \\\"action\\\": \\\"Train\\\", \\\"target\\\": { \\\"workspaceName\\\": \\\"00a5e6686af84f1f\\\", \\\"brainName\\\": \\\"AdderSdk3\\\", \\\"brainVersion\\\": 4, \\\"conceptName\\\": \\\"addition\\\" } } }\",\n",
      "   \"timeout\": 0.0\n",
      "} \n",
      "\n",
      "\n",
      "Registered session: -> 901025167_10.244.53.180\n"
     ]
    }
   ],
   "source": [
    "\n",
    "register_response: SimulatorSessionResponse = rest_api.create_session(\n",
    "    'the_simulator',\n",
    "    timeout_seconds=params['timeout'],\n",
    "    simulator_context=params['sim-context'],\n",
    ")\n",
    "\n",
    "print('Registered session: -> {}'.format(register_response.session_id))"
   ]
  },
  {
   "cell_type": "markdown",
   "metadata": {},
   "source": [
    "### Step4: Initial setup for State <--> Action Loop.\n",
    "Let's define intial state of our simulator and reset the stats.\n",
    "\n",
    "Note: sequence_id is an important part of this workflow, it's part of SDK3 format for bonsai platform. It starts with 1 and Bonsai platform update this as you call advance and return in each advance response. It's simulators responsibility to return the same sequence_id everytime and not change it in order to conform to SDK3 protocol.\n"
   ]
  },
  {
   "cell_type": "code",
   "execution_count": 4,
   "metadata": {},
   "outputs": [],
   "source": [
    "# extract the session id from the response\n",
    "session_id = register_response.session_id\n",
    "sequence_id = 1\n",
    "\n",
    "# set up our initial state\n",
    "value1 = 2\n",
    "value2 = 5\n",
    "reward = 0.0\n",
    "total_episode_reward = 0.0\n",
    "episode_iterations = 0\n",
    "\n",
    "# Loop until Unregister or Ctrl+C\n",
    "event_type = 'Idle'"
   ]
  },
  {
   "cell_type": "markdown",
   "metadata": {},
   "source": [
    "### Step5:  event loop or state<-->action loop.\n",
    "Loop, where simulator will send state to Bonsai platform and will receive back Events. Bonsai platform, advance call will return one of these events.\n",
    "\n",
    "1. EpisodeStart: signifies that platform is starting a new episode. it's good time to reset some episode bound stats and reset the states of simulation.\n",
    "2. EpisodeStep: Bonsai platform sent an RL action and you need to advance simulation by simulating the sent action.\n",
    "3. EpisodeFinish: Current episode is finished. \n",
    "4. Unregister: platform is asking you to unregister/delete the simulator session. you can recreate session, if you stil want to train further your brain.\n",
    "5. Idle: this session did not get used to train any brain so it sent idle. in the idle response there maybe some callback time, if present then try after that much time, else retry sending requests."
   ]
  },
  {
   "cell_type": "code",
   "execution_count": 5,
   "metadata": {},
   "outputs": [
    {
     "name": "stdout",
     "output_type": "stream",
     "text": [
      "2020-05-21 01:39:55.634226 ADVANCE -> {'additional_properties': {}, 'type': <EventTypesEventType.episode_start: 'EpisodeStart'>, 'session_id': '901025167_10.244.53.180', 'sequence_id': 2, 'episode_start': <bonsai.simulatorapi.models.episode_start_py3.EpisodeStart object at 0x105c7f750>, 'episode_step': None, 'episode_finish': None, 'playback_start': None, 'playback_step': None, 'playback_finish': None, 'idle': None, 'registered': None, 'unregister': None, 'kind_case': None}\n",
      "2020-05-21 01:40:00.108775 ADVANCE -> {'additional_properties': {}, 'type': <EventTypesEventType.episode_step: 'EpisodeStep'>, 'session_id': '901025167_10.244.53.180', 'sequence_id': 3, 'episode_start': None, 'episode_step': <bonsai.simulatorapi.models.step_py3.Step object at 0x105c84190>, 'episode_finish': None, 'playback_start': None, 'playback_step': None, 'playback_finish': None, 'idle': None, 'registered': None, 'unregister': None, 'kind_case': None}\n",
      "\n",
      "\n",
      "\n",
      "Unregistering 901025167_10.244.53.180\n",
      "Successfully deleted session\n",
      "2020-05-21 01:40:02.976215 UNREGISTER -> None\n"
     ]
    }
   ],
   "source": [
    "try:\n",
    "    while event_type != 'Unregister':\n",
    "\n",
    "        # invoke Advance\n",
    "        advance_time = datetime.utcnow()\n",
    "        advance_response: Event = rest_api.advance(\n",
    "            session_id, sequence_id,\n",
    "            {'value1': value1, 'value2': value2, '_reward': reward})\n",
    "\n",
    "        if 0 == (episode_iterations % 100):\n",
    "            print(advance_time,'ADVANCE -> {}'.format(advance_response))\n",
    "\n",
    "        event: Event = advance_response\n",
    "        event_type = event.type\n",
    "\n",
    "        # Handle the response\n",
    "        if event_type == 'Idle':\n",
    "            waitForSeconds = event.idle.callback_time\n",
    "            if waitForSeconds > 0.0:\n",
    "                print('Sleeping for', waitForSeconds, 'seconds')\n",
    "                time.sleep(waitForSeconds)\n",
    "            # just try again\n",
    "\n",
    "        elif event_type == 'Unregister':\n",
    "            # will break out of loop! we will delete session later.\n",
    "            rest_api = None\n",
    "            session_id = ''\n",
    "\n",
    "        elif event_type == 'EpisodeStart':\n",
    "            # re-initialize the simulator state\n",
    "            value1 = 2\n",
    "            value2 = 5\n",
    "            reward = 0.0\n",
    "            total_episode_reward = 0\n",
    "            episode_iterations = 0\n",
    "\n",
    "        elif event_type == 'EpisodeStep':\n",
    "            # check the sum in the response\n",
    "            action = event.episode_step.action\n",
    "            if action['sum'] == (value1 + value2)%10:\n",
    "                reward = 1.0\n",
    "            else:\n",
    "                reward = 0.0\n",
    "\n",
    "            total_episode_reward += reward\n",
    "            episode_iterations += 1\n",
    "\n",
    "            # update the simulator state\n",
    "            value1 += 2\n",
    "            if value1 > 9:\n",
    "                value1 -= 10\n",
    "\n",
    "            value2 += 3\n",
    "            if value2 > 9:\n",
    "                value2 -= 10\n",
    "\n",
    "        elif event_type == 'EpisodeFinish':\n",
    "            # just print out the episode finish\n",
    "            print('Episode finished! Total reward = {} / {}'.format(total_episode_reward, episode_iterations))\n",
    "\n",
    "        # the simulator's sequence id is always the last one it received\n",
    "        sequence_id = event.sequence_id\n",
    "except KeyboardInterrupt:\n",
    "        pass\n",
    "finally:\n",
    "    if rest_api is not None and session_id:\n",
    "        print('\\n\\n\\nUnregistering {}'.format(session_id))\n",
    "        deregister_response = rest_api.delete_session(session_id)\n",
    "        print(datetime.utcnow(), 'UNREGISTER ->', deregister_response)"
   ]
  },
  {
   "cell_type": "code",
   "execution_count": null,
   "metadata": {},
   "outputs": [],
   "source": []
  }
 ],
 "metadata": {
  "kernelspec": {
   "display_name": "Python 3",
   "language": "python",
   "name": "python3"
  },
  "language_info": {
   "codemirror_mode": {
    "name": "ipython",
    "version": 3
   },
   "file_extension": ".py",
   "mimetype": "text/x-python",
   "name": "python",
   "nbconvert_exporter": "python",
   "pygments_lexer": "ipython3",
   "version": "3.7.6"
  }
 },
 "nbformat": 4,
 "nbformat_minor": 4
}
